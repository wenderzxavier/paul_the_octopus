{
 "cells": [
  {
   "cell_type": "markdown",
   "metadata": {
    "deletable": true,
    "editable": true
   },
   "source": [
    "# Datalab Quick Starter\n",
    "Simple notebook where you only need to implement the prediction logic.\n",
    "<br>\n",
    "The first code cell is responsable for importing Python dependecies and setting up credentials. \n",
    "<br>\n",
    "Change the _bucket_ value to your bucket and run the cell (_Ctrl+Enter_).\n",
    "<br>\n",
    "You should run a cell (_Ctrl+Enter_) every time you change something on it."
   ]
  },
  {
   "cell_type": "code",
   "execution_count": 3,
   "metadata": {
    "colab": {
     "autoexec": {
      "startup": false,
      "wait_interval": 0
     }
    },
    "colab_type": "code",
    "collapsed": false,
    "deletable": true,
    "editable": true,
    "id": "Y3EVemsIETUO"
   },
   "outputs": [],
   "source": [
    "import pandas as pd\n",
    "import numpy as np\n",
    "from google.cloud import storage\n",
    "\n",
    "project_id = 'paul-the-octopus-hackaton'\n",
    "bucket = 'ciandt_octopus_wender__dot__zacariasxavier__at__gmail__dot__com'"
   ]
  },
  {
   "cell_type": "markdown",
   "metadata": {
    "colab_type": "text",
    "deletable": true,
    "editable": true,
    "id": "MC6zkMr9IjJ8"
   },
   "source": [
    "## Load Data from BigQuery\n",
    "Six BigQuery tables are loaded into Pandas DataFrames and can be used in your prediction algorithm.\n",
    "<br>\n",
    "You can run (_Ctrl+Enter_) all the cells or only what you'll use for the prediction."
   ]
  },
  {
   "cell_type": "markdown",
   "metadata": {
    "deletable": true,
    "editable": true
   },
   "source": [
    "**fifa_rank**: The FIFA rank for national teams."
   ]
  },
  {
   "cell_type": "code",
   "execution_count": 4,
   "metadata": {
    "colab": {
     "autoexec": {
      "startup": false,
      "wait_interval": 0
     },
     "base_uri": "https://8080-dot-3731046-dot-devshell.appspot.com/",
     "height": 204,
     "output_extras": [
      {
       "item_id": 1
      }
     ]
    },
    "colab_type": "code",
    "collapsed": false,
    "deletable": true,
    "editable": true,
    "executionInfo": {
     "elapsed": 2095,
     "status": "ok",
     "timestamp": 1521809782031,
     "user": {
      "displayName": "Rodrigo Pereira",
      "photoUrl": "//lh6.googleusercontent.com/-0ChRE2xNNs4/AAAAAAAAAAI/AAAAAAAAAAc/pGOTdu7020E/s50-c-k-no/photo.jpg",
      "userId": "112656468463545086965"
     },
     "user_tz": 180
    },
    "id": "wUpvhz9QG-1x",
    "outputId": "e3d8c009-4133-4d71-b744-f33fd4582ad5"
   },
   "outputs": [
    {
     "data": {
      "text/html": [
       "<div>\n",
       "<style scoped>\n",
       "    .dataframe tbody tr th:only-of-type {\n",
       "        vertical-align: middle;\n",
       "    }\n",
       "\n",
       "    .dataframe tbody tr th {\n",
       "        vertical-align: top;\n",
       "    }\n",
       "\n",
       "    .dataframe thead th {\n",
       "        text-align: right;\n",
       "    }\n",
       "</style>\n",
       "<table border=\"1\" class=\"dataframe\">\n",
       "  <thead>\n",
       "    <tr style=\"text-align: right;\">\n",
       "      <th></th>\n",
       "      <th>Rank</th>\n",
       "      <th>Team_Code</th>\n",
       "      <th>Team</th>\n",
       "      <th>Total_Points</th>\n",
       "    </tr>\n",
       "  </thead>\n",
       "  <tbody>\n",
       "    <tr>\n",
       "      <th>0</th>\n",
       "      <td>1</td>\n",
       "      <td>GER</td>\n",
       "      <td>Germany</td>\n",
       "      <td>1609</td>\n",
       "    </tr>\n",
       "    <tr>\n",
       "      <th>1</th>\n",
       "      <td>2</td>\n",
       "      <td>BRA</td>\n",
       "      <td>Brazil</td>\n",
       "      <td>1489</td>\n",
       "    </tr>\n",
       "  </tbody>\n",
       "</table>\n",
       "</div>"
      ],
      "text/plain": [
       "   Rank Team_Code     Team  Total_Points\n",
       "0     1       GER  Germany          1609\n",
       "1     2       BRA   Brazil          1489"
      ]
     },
     "execution_count": 4,
     "metadata": {},
     "output_type": "execute_result"
    }
   ],
   "source": [
    "fifa_rank = pd.io.gbq.read_gbq('SELECT * FROM [paul_the_octopus_dataset.fifa_rank]', project_id=project_id, verbose=False)\n",
    "fifa_rank.head(2)"
   ]
  },
  {
   "cell_type": "markdown",
   "metadata": {
    "deletable": true,
    "editable": true
   },
   "source": [
    "**matches_schedule**: The list of matches for the 2018 World Cup."
   ]
  },
  {
   "cell_type": "code",
   "execution_count": 5,
   "metadata": {
    "colab": {
     "autoexec": {
      "startup": false,
      "wait_interval": 0
     },
     "base_uri": "https://8080-dot-3731046-dot-devshell.appspot.com/",
     "height": 221,
     "output_extras": [
      {},
      {}
     ]
    },
    "colab_type": "code",
    "collapsed": false,
    "deletable": true,
    "editable": true,
    "executionInfo": {
     "elapsed": 2076,
     "status": "ok",
     "timestamp": 1521737056715,
     "user": {
      "displayName": "Rodrigo Pereira",
      "photoUrl": "//lh6.googleusercontent.com/-0ChRE2xNNs4/AAAAAAAAAAI/AAAAAAAAAAc/pGOTdu7020E/s50-c-k-no/photo.jpg",
      "userId": "112656468463545086965"
     },
     "user_tz": 180
    },
    "id": "C9fX8OaiIPBo",
    "outputId": "b8645a53-43f9-4df6-edae-fc49c6a28e5d"
   },
   "outputs": [
    {
     "data": {
      "text/html": [
       "<div>\n",
       "<style scoped>\n",
       "    .dataframe tbody tr th:only-of-type {\n",
       "        vertical-align: middle;\n",
       "    }\n",
       "\n",
       "    .dataframe tbody tr th {\n",
       "        vertical-align: top;\n",
       "    }\n",
       "\n",
       "    .dataframe thead th {\n",
       "        text-align: right;\n",
       "    }\n",
       "</style>\n",
       "<table border=\"1\" class=\"dataframe\">\n",
       "  <thead>\n",
       "    <tr style=\"text-align: right;\">\n",
       "      <th></th>\n",
       "      <th>date</th>\n",
       "      <th>home</th>\n",
       "      <th>away</th>\n",
       "    </tr>\n",
       "  </thead>\n",
       "  <tbody>\n",
       "    <tr>\n",
       "      <th>0</th>\n",
       "      <td>26 June 2018 17:00 MSK (UTC+3)</td>\n",
       "      <td>Australia</td>\n",
       "      <td>Peru</td>\n",
       "    </tr>\n",
       "    <tr>\n",
       "      <th>1</th>\n",
       "      <td>21 June 2018 20:00 YEKT (UTC+5)</td>\n",
       "      <td>France</td>\n",
       "      <td>Peru</td>\n",
       "    </tr>\n",
       "  </tbody>\n",
       "</table>\n",
       "</div>"
      ],
      "text/plain": [
       "                              date       home  away\n",
       "0   26 June 2018 17:00 MSK (UTC+3)  Australia  Peru\n",
       "1  21 June 2018 20:00 YEKT (UTC+5)     France  Peru"
      ]
     },
     "execution_count": 5,
     "metadata": {},
     "output_type": "execute_result"
    }
   ],
   "source": [
    "matches_schedule = pd.io.gbq.read_gbq('SELECT date, TRIM(home) as home, TRIM(away) as away FROM `paul_the_octopus_dataset.matches`', project_id=project_id, verbose=False, dialect='standard')\n",
    "matches_schedule.head(2)"
   ]
  },
  {
   "cell_type": "markdown",
   "metadata": {
    "deletable": true,
    "editable": true
   },
   "source": [
    "**matches_history**: First phase match results since 1930 World Cup."
   ]
  },
  {
   "cell_type": "code",
   "execution_count": 6,
   "metadata": {
    "colab": {
     "autoexec": {
      "startup": false,
      "wait_interval": 0
     },
     "base_uri": "https://8080-dot-3731046-dot-devshell.appspot.com/",
     "height": 221,
     "output_extras": [
      {},
      {}
     ]
    },
    "colab_type": "code",
    "collapsed": false,
    "deletable": true,
    "editable": true,
    "executionInfo": {
     "elapsed": 2472,
     "status": "ok",
     "timestamp": 1521737059332,
     "user": {
      "displayName": "Rodrigo Pereira",
      "photoUrl": "//lh6.googleusercontent.com/-0ChRE2xNNs4/AAAAAAAAAAI/AAAAAAAAAAc/pGOTdu7020E/s50-c-k-no/photo.jpg",
      "userId": "112656468463545086965"
     },
     "user_tz": 180
    },
    "id": "BE1Ur4R8Iv8R",
    "outputId": "1efb8d09-f705-498d-edbe-c92f9f95e001"
   },
   "outputs": [
    {
     "data": {
      "text/html": [
       "<div>\n",
       "<style scoped>\n",
       "    .dataframe tbody tr th:only-of-type {\n",
       "        vertical-align: middle;\n",
       "    }\n",
       "\n",
       "    .dataframe tbody tr th {\n",
       "        vertical-align: top;\n",
       "    }\n",
       "\n",
       "    .dataframe thead th {\n",
       "        text-align: right;\n",
       "    }\n",
       "</style>\n",
       "<table border=\"1\" class=\"dataframe\">\n",
       "  <thead>\n",
       "    <tr style=\"text-align: right;\">\n",
       "      <th></th>\n",
       "      <th>year</th>\n",
       "      <th>home</th>\n",
       "      <th>home_score</th>\n",
       "      <th>away_score</th>\n",
       "      <th>away</th>\n",
       "    </tr>\n",
       "  </thead>\n",
       "  <tbody>\n",
       "    <tr>\n",
       "      <th>0</th>\n",
       "      <td>1998</td>\n",
       "      <td>Yugoslavia</td>\n",
       "      <td>1</td>\n",
       "      <td>0</td>\n",
       "      <td>Iran</td>\n",
       "    </tr>\n",
       "    <tr>\n",
       "      <th>1</th>\n",
       "      <td>1998</td>\n",
       "      <td>Germany</td>\n",
       "      <td>2</td>\n",
       "      <td>0</td>\n",
       "      <td>Iran</td>\n",
       "    </tr>\n",
       "  </tbody>\n",
       "</table>\n",
       "</div>"
      ],
      "text/plain": [
       "   year        home  home_score  away_score  away\n",
       "0  1998  Yugoslavia           1           0  Iran\n",
       "1  1998     Germany           2           0  Iran"
      ]
     },
     "execution_count": 6,
     "metadata": {},
     "output_type": "execute_result"
    }
   ],
   "source": [
    "matches_history = pd.io.gbq.read_gbq('SELECT * FROM [paul_the_octopus_dataset.matches_history]', project_id=project_id, verbose=False)\n",
    "matches_history.head(2)"
   ]
  },
  {
   "cell_type": "markdown",
   "metadata": {
    "deletable": true,
    "editable": true
   },
   "source": [
    "**panini_players**: List of players contained in the Panini stickers album."
   ]
  },
  {
   "cell_type": "code",
   "execution_count": 7,
   "metadata": {
    "collapsed": false,
    "deletable": true,
    "editable": true
   },
   "outputs": [
    {
     "data": {
      "text/html": [
       "<div>\n",
       "<style scoped>\n",
       "    .dataframe tbody tr th:only-of-type {\n",
       "        vertical-align: middle;\n",
       "    }\n",
       "\n",
       "    .dataframe tbody tr th {\n",
       "        vertical-align: top;\n",
       "    }\n",
       "\n",
       "    .dataframe thead th {\n",
       "        text-align: right;\n",
       "    }\n",
       "</style>\n",
       "<table border=\"1\" class=\"dataframe\">\n",
       "  <thead>\n",
       "    <tr style=\"text-align: right;\">\n",
       "      <th></th>\n",
       "      <th>country</th>\n",
       "      <th>name</th>\n",
       "    </tr>\n",
       "  </thead>\n",
       "  <tbody>\n",
       "    <tr>\n",
       "      <th>0</th>\n",
       "      <td>Peru</td>\n",
       "      <td>Pedro Gallese</td>\n",
       "    </tr>\n",
       "    <tr>\n",
       "      <th>1</th>\n",
       "      <td>Peru</td>\n",
       "      <td>Carlos Cáceda</td>\n",
       "    </tr>\n",
       "  </tbody>\n",
       "</table>\n",
       "</div>"
      ],
      "text/plain": [
       "  country           name\n",
       "0    Peru  Pedro Gallese\n",
       "1    Peru  Carlos Cáceda"
      ]
     },
     "execution_count": 7,
     "metadata": {},
     "output_type": "execute_result"
    }
   ],
   "source": [
    "panini_players = pd.io.gbq.read_gbq('SELECT * FROM [paul_the_octopus_dataset.panini_players]', project_id=project_id, verbose=False)\n",
    "panini_players.head(2)"
   ]
  },
  {
   "cell_type": "markdown",
   "metadata": {
    "deletable": true,
    "editable": true
   },
   "source": [
    "**sofifa_players_2018**: Player statistics (not limited to the participating teams, so some filtering is needed)."
   ]
  },
  {
   "cell_type": "code",
   "execution_count": 8,
   "metadata": {
    "collapsed": false,
    "deletable": true,
    "editable": true
   },
   "outputs": [
    {
     "data": {
      "text/html": [
       "<div>\n",
       "<style scoped>\n",
       "    .dataframe tbody tr th:only-of-type {\n",
       "        vertical-align: middle;\n",
       "    }\n",
       "\n",
       "    .dataframe tbody tr th {\n",
       "        vertical-align: top;\n",
       "    }\n",
       "\n",
       "    .dataframe thead th {\n",
       "        text-align: right;\n",
       "    }\n",
       "</style>\n",
       "<table border=\"1\" class=\"dataframe\">\n",
       "  <thead>\n",
       "    <tr style=\"text-align: right;\">\n",
       "      <th></th>\n",
       "      <th>Rank</th>\n",
       "      <th>Name</th>\n",
       "      <th>Age</th>\n",
       "      <th>Nationality</th>\n",
       "      <th>Overall</th>\n",
       "      <th>Potential</th>\n",
       "      <th>Club</th>\n",
       "      <th>Value</th>\n",
       "      <th>Wage</th>\n",
       "      <th>Special</th>\n",
       "      <th>...</th>\n",
       "      <th>Reactions</th>\n",
       "      <th>Short_passing</th>\n",
       "      <th>Shot_power</th>\n",
       "      <th>Sliding_tackle</th>\n",
       "      <th>Sprint_speed</th>\n",
       "      <th>Stamina</th>\n",
       "      <th>Standing_tackle</th>\n",
       "      <th>Strength</th>\n",
       "      <th>Vision</th>\n",
       "      <th>Volleys</th>\n",
       "    </tr>\n",
       "  </thead>\n",
       "  <tbody>\n",
       "    <tr>\n",
       "      <th>0</th>\n",
       "      <td>16707</td>\n",
       "      <td>M. Rafique</td>\n",
       "      <td>24</td>\n",
       "      <td>India</td>\n",
       "      <td>55</td>\n",
       "      <td>60</td>\n",
       "      <td>None</td>\n",
       "      <td>€0</td>\n",
       "      <td>€0</td>\n",
       "      <td>1535</td>\n",
       "      <td>...</td>\n",
       "      <td>48</td>\n",
       "      <td>63</td>\n",
       "      <td>52</td>\n",
       "      <td>52</td>\n",
       "      <td>67</td>\n",
       "      <td>61</td>\n",
       "      <td>48</td>\n",
       "      <td>42</td>\n",
       "      <td>48</td>\n",
       "      <td>47</td>\n",
       "    </tr>\n",
       "    <tr>\n",
       "      <th>1</th>\n",
       "      <td>17553</td>\n",
       "      <td>S. Brotherton</td>\n",
       "      <td>20</td>\n",
       "      <td>New Zealand</td>\n",
       "      <td>52</td>\n",
       "      <td>65</td>\n",
       "      <td>None</td>\n",
       "      <td>€0</td>\n",
       "      <td>€0</td>\n",
       "      <td>1177</td>\n",
       "      <td>...</td>\n",
       "      <td>37</td>\n",
       "      <td>36</td>\n",
       "      <td>33</td>\n",
       "      <td>55</td>\n",
       "      <td>62</td>\n",
       "      <td>51</td>\n",
       "      <td>53</td>\n",
       "      <td>74</td>\n",
       "      <td>28</td>\n",
       "      <td>24</td>\n",
       "    </tr>\n",
       "  </tbody>\n",
       "</table>\n",
       "<p>2 rows × 44 columns</p>\n",
       "</div>"
      ],
      "text/plain": [
       "    Rank           Name  Age  Nationality  Overall  Potential  Club Value  \\\n",
       "0  16707     M. Rafique   24        India       55         60  None    €0   \n",
       "1  17553  S. Brotherton   20  New Zealand       52         65  None    €0   \n",
       "\n",
       "  Wage  Special   ...     Reactions  Short_passing  Shot_power  \\\n",
       "0   €0     1535   ...            48             63          52   \n",
       "1   €0     1177   ...            37             36          33   \n",
       "\n",
       "   Sliding_tackle  Sprint_speed  Stamina  Standing_tackle  Strength  Vision  \\\n",
       "0              52            67       61               48        42      48   \n",
       "1              55            62       51               53        74      28   \n",
       "\n",
       "   Volleys  \n",
       "0       47  \n",
       "1       24  \n",
       "\n",
       "[2 rows x 44 columns]"
      ]
     },
     "execution_count": 8,
     "metadata": {},
     "output_type": "execute_result"
    }
   ],
   "source": [
    "sofifa_players_2018 = pd.io.gbq.read_gbq('SELECT * FROM [paul_the_octopus_dataset.sofifa_players_2018]', project_id=project_id, verbose=False)\n",
    "sofifa_players_2018.head(2)"
   ]
  },
  {
   "cell_type": "markdown",
   "metadata": {
    "deletable": true,
    "editable": true
   },
   "source": [
    "**teams**: List of teams with some historical data."
   ]
  },
  {
   "cell_type": "code",
   "execution_count": 9,
   "metadata": {
    "collapsed": false,
    "deletable": true,
    "editable": true
   },
   "outputs": [
    {
     "data": {
      "text/html": [
       "<div>\n",
       "<style scoped>\n",
       "    .dataframe tbody tr th:only-of-type {\n",
       "        vertical-align: middle;\n",
       "    }\n",
       "\n",
       "    .dataframe tbody tr th {\n",
       "        vertical-align: top;\n",
       "    }\n",
       "\n",
       "    .dataframe thead th {\n",
       "        text-align: right;\n",
       "    }\n",
       "</style>\n",
       "<table border=\"1\" class=\"dataframe\">\n",
       "  <thead>\n",
       "    <tr style=\"text-align: right;\">\n",
       "      <th></th>\n",
       "      <th>Team</th>\n",
       "      <th>Previous__appearances</th>\n",
       "      <th>Previous__titles</th>\n",
       "      <th>Previous__finals</th>\n",
       "      <th>Previous__semifinals</th>\n",
       "    </tr>\n",
       "  </thead>\n",
       "  <tbody>\n",
       "    <tr>\n",
       "      <th>0</th>\n",
       "      <td>Iceland</td>\n",
       "      <td>0</td>\n",
       "      <td>0</td>\n",
       "      <td>0</td>\n",
       "      <td>0</td>\n",
       "    </tr>\n",
       "    <tr>\n",
       "      <th>1</th>\n",
       "      <td>Panama</td>\n",
       "      <td>0</td>\n",
       "      <td>0</td>\n",
       "      <td>0</td>\n",
       "      <td>0</td>\n",
       "    </tr>\n",
       "  </tbody>\n",
       "</table>\n",
       "</div>"
      ],
      "text/plain": [
       "      Team  Previous__appearances  Previous__titles  Previous__finals  \\\n",
       "0  Iceland                      0                 0                 0   \n",
       "1   Panama                      0                 0                 0   \n",
       "\n",
       "   Previous__semifinals  \n",
       "0                     0  \n",
       "1                     0  "
      ]
     },
     "execution_count": 9,
     "metadata": {},
     "output_type": "execute_result"
    }
   ],
   "source": [
    "teams = pd.io.gbq.read_gbq('SELECT * FROM [paul_the_octopus_dataset.teams]', project_id=project_id, verbose=False)\n",
    "teams.head(2)"
   ]
  },
  {
   "cell_type": "markdown",
   "metadata": {
    "deletable": true,
    "editable": true
   },
   "source": [
    "## Prediction Logic\n",
    " The next cell should contain a function called _predict_. It receives a dataframe of the world cup matches (\"home\" and \"away\" columns) and should return another dataframe with the scores (\"home\", \"home_score\", \"away_score\", \"away\" columns).\n",
    " <br>\n",
    " There is an example of function implementation below, where the better ranked team scores 2 x 0.\n",
    " <br>\n",
    " <font color=\"red\">**Don't forget to run the cell (_Ctrl+Enter_) after you finish coding.**</font>"
   ]
  },
  {
   "cell_type": "code",
   "execution_count": 3,
   "metadata": {
    "collapsed": false,
    "deletable": true,
    "editable": true
   },
   "outputs": [],
   "source": [
    "def predict(matches):\n",
    "  \n",
    "    # Initializing weights \n",
    "    host_weight = 20.0\n",
    "    value_weight = 2.1\n",
    "    age_weight = 0.3\n",
    "    teamRankFifa = 0.1\n",
    "    predictResult = []\n",
    "    \n",
    "    # Creating DataFrame\n",
    "    overall = pd.DataFrame(0.0, index= set(matches_schedule[\"home\"].values) , columns=[\"age\", \"value\", \"history\" , \"host\", \"previous_match\", \"rank\"])\n",
    "    \n",
    "    # Initializing Host weight as 0.0 for every city, and 20.0 for host-City ( 2018-Russia )\n",
    "    overall[\"host\"] = 0.0\n",
    "    overall.loc[\"Russia\"][\"host\"] = host_weight\n",
    "    \n",
    "    # Create Overall DataFrame with necessary information\n",
    "    # Loop through all World Cup 2018 countries, for each country\n",
    "    # Collect Overall and Age MEAN values for the best 23 players of each country \n",
    "    # Collect Rank information of each country\n",
    "    # Fill missing values of Age and Value as the minimum value of the column\n",
    "    for country in overall.index:\n",
    "      overall.loc[country][\"value\"] = sofifa_players_2018[sofifa_players_2018[\"Nationality\"] == country].sort_values(\"Overall\", ascending=False)[:23][\"Overall\"].mean()\n",
    "      overall.loc[country][\"age\"] = sofifa_players_2018[sofifa_players_2018[\"Nationality\"] == country].sort_values(\"Overall\", ascending=False)[:23][\"Age\"].mean()\n",
    "      overall.loc[country][\"rank\"] = fifa_rank[fifa_rank[\"Team\"] == country][\"Rank\"]\n",
    "    overall[\"age\"].fillna(overall[\"age\"].min(), inplace=True)\n",
    "    overall[\"value\"].fillna(overall[\"value\"].min(), inplace=True)\n",
    "\n",
    "    # Loop through the items of Overall Dataframe\n",
    "    # Store home team information to the variable HOME, and away information to the variable AWAY\n",
    "    for index, match in matches_schedule.sort_values(\"date\").iterrows():\n",
    "      home = overall.loc[match[\"home\"]]\n",
    "      away = overall.loc[match[\"away\"]]\n",
    "      \n",
    "      # Score Calc: Calculate the difference between value for the home and away teams (w=Weight)\n",
    "      # wPreviousMatch = Start with 0, and then update considering if the team won or lost\n",
    "      # home (wAge + wValue + wHost + wPreviousMatch - wFifaRank) - away (wAge + wValue + wHost + wPreviousMatch + wFifaRank)\n",
    "      \n",
    "      score = (age_weight*home[\"age\"] + value_weight*home[\"value\"] + home[\"host\"] + home[\"previous_match\"] - teamRankFifa*home[\"rank\"] ) - (age_weight*away[\"age\"] + value_weight*away[\"value\"] + away[\"previous_match\"] + away[\"host\"] - teamRankFifa*home[\"rank\"])\n",
    "\n",
    "\n",
    "      # Check the difference between teams are higher than 10 or lower than -10\n",
    "      # How many goals the winning team will score\n",
    "      # Test to see if the other team is good enough to score ( 0.3 + Winner(wValue) - Looser(wValue) / 10 )\n",
    "      # Check to see if the number of goals is too big or higher than the winning team and correct value\n",
    "\n",
    "      if score > 10:\n",
    "        home_score = int(score/10 + .9)\n",
    "        overall.loc[match[\"away\"]][\"previous_match\"] =  home_score + 1.5\n",
    "        # Test to see is the other team scores\n",
    "        away_score_test = int(0.3 + abs(home[\"value\"]-away[\"value\"])/10)\n",
    "        if ( away_score_test < int(score/10)):\n",
    "              away_score = away_score_test\n",
    "        elif ( int(score)/10 == away_score_test and away_score_test-1 > 0 ):\n",
    "              away_score = away_score_test-1\n",
    "        else: \n",
    "          away_score = 0\n",
    "      elif score < -10:\n",
    "        away_score = int(-score/10 + .9)\n",
    "        overall.loc[match[\"home\"]][\"previous_match\"] = away_score + 1.5\n",
    "        home_score_test = int(0.3 + abs(away[\"value\"]-home[\"value\"])/10)\n",
    "        if ( home_score_test < int(score/10)):\n",
    "              home_score = home_score_test\n",
    "        elif ( int(score)/10 == home_score_test and home_score_test-1 > 0 ):\n",
    "              home_score = home_score_test-1\n",
    "        else: \n",
    "          home_score = 0\n",
    "      \n",
    "      # If the Teams are similar and will be draw\n",
    "      # Calculate the number of goals scored based on the effectiviness of the teams\n",
    "      \n",
    "      else:\n",
    "        if(home[\"rank\"] + away[\"rank\"] > 25 ):\n",
    "          draw_score = int(0.8 + abs(away[\"value\"]-home[\"value\"])/10)\n",
    "        else:\n",
    "          draw_score = int( 1.2 + ((home[\"rank\"]+away[\"rank\"]/10) + abs(away[\"value\"]-home[\"value\"])/10)/2)\n",
    "        home_score = draw_score\n",
    "        away_score = draw_score\n",
    "          \n",
    "\n",
    "      # Append each result considering team names and score to the predictResult array\n",
    "      # return as DataFrame containing all games and results ordered.\n",
    "      \n",
    "      predictResult.append([match[\"home\"], home_score, away_score ,match[\"away\"]])\n",
    "    return (pd.DataFrame(predictResult, columns=[\"home\", \"home_score\", \"away_score\", \"away\"]))"
   ]
  },
  {
   "cell_type": "markdown",
   "metadata": {
    "deletable": true,
    "editable": true
   },
   "source": [
    "## Prediction Test\n",
    "Executing the next cell will test your prediction code against the four last World Cups. This is useful to verify if a code change makes a prediction better or worse."
   ]
  },
  {
   "cell_type": "code",
   "execution_count": 28,
   "metadata": {
    "collapsed": false,
    "deletable": true,
    "editable": true
   },
   "outputs": [
    {
     "name": "stdout",
     "output_type": "stream",
     "text": [
      "Test for old World Cups:\n"
     ]
    },
    {
     "data": {
      "text/html": [
       "<div>\n",
       "<style scoped>\n",
       "    .dataframe tbody tr th:only-of-type {\n",
       "        vertical-align: middle;\n",
       "    }\n",
       "\n",
       "    .dataframe tbody tr th {\n",
       "        vertical-align: top;\n",
       "    }\n",
       "\n",
       "    .dataframe thead th {\n",
       "        text-align: right;\n",
       "    }\n",
       "</style>\n",
       "<table border=\"1\" class=\"dataframe\">\n",
       "  <thead>\n",
       "    <tr style=\"text-align: right;\">\n",
       "      <th></th>\n",
       "      <th>Year</th>\n",
       "      <th>Points</th>\n",
       "      <th>%</th>\n",
       "    </tr>\n",
       "  </thead>\n",
       "  <tbody>\n",
       "    <tr>\n",
       "      <th>0</th>\n",
       "      <td>2002</td>\n",
       "      <td>0</td>\n",
       "      <td>0.00</td>\n",
       "    </tr>\n",
       "    <tr>\n",
       "      <th>1</th>\n",
       "      <td>2006</td>\n",
       "      <td>0</td>\n",
       "      <td>0.00</td>\n",
       "    </tr>\n",
       "    <tr>\n",
       "      <th>2</th>\n",
       "      <td>2010</td>\n",
       "      <td>0</td>\n",
       "      <td>0.00</td>\n",
       "    </tr>\n",
       "    <tr>\n",
       "      <th>3</th>\n",
       "      <td>2014</td>\n",
       "      <td>15</td>\n",
       "      <td>1.25</td>\n",
       "    </tr>\n",
       "  </tbody>\n",
       "</table>\n",
       "</div>"
      ],
      "text/plain": [
       "   Year  Points     %\n",
       "0  2002       0  0.00\n",
       "1  2006       0  0.00\n",
       "2  2010       0  0.00\n",
       "3  2014      15  1.25"
      ]
     },
     "execution_count": 28,
     "metadata": {},
     "output_type": "execute_result"
    }
   ],
   "source": [
    "def winner_points(row, winner_team, loser_team):\n",
    "  winner_score = '%s_score' % winner_team\n",
    "  loser_score = '%s_score' % loser_team\n",
    "  expected_winner_score = 'expected_%s_score' % winner_team\n",
    "  expected_loser_score = 'expected_%s_score' % loser_team\n",
    "\n",
    "  # winner score\n",
    "  if row[expected_winner_score] == row[winner_score]:\n",
    "    return 18\n",
    "  # winner/loser difference\n",
    "  if row[expected_winner_score] - row[expected_loser_score] == row[winner_score] - row[loser_score]:\n",
    "    return 15\n",
    "  # loser score\n",
    "  elif row[expected_loser_score] == row[loser_score]:\n",
    "    return 12\n",
    "  return 10\n",
    "  \n",
    "def score_points(expected, prediction):\n",
    "  points = 0\n",
    "  \n",
    "  for i, row in expected.merge(prediction, left_on=['home','away'], right_on=['home','away'], how='left').iterrows():\n",
    "    \n",
    "    # exact score\n",
    "    if (row['expected_home_score'], row['expected_away_score']) == (row['home_score'], row['away_score']):\n",
    "      points += 25\n",
    "    \n",
    "    # home won\n",
    "    elif row['expected_home_score'] > row['expected_away_score'] and row['home_score'] > row['away_score']:\n",
    "      points += winner_points(row, 'home', 'away')\n",
    "      \n",
    "    # away won\n",
    "    elif row['expected_away_score'] > row['expected_home_score'] and row['away_score'] > row['home_score']:\n",
    "      points += winner_points(row, 'away', 'home')\n",
    "      \n",
    "    # draw\n",
    "    elif row['home_score'] == row['away_score']:\n",
    "      if row['expected_away_score'] == row['expected_home_score']:\n",
    "        points += 15\n",
    "      else:\n",
    "        points += 4\n",
    "        \n",
    "  return points\n",
    "\n",
    "def select_past_matches(year):\n",
    "  m = matches_history[matches_history['year'] == year][['home','away', 'home_score', 'away_score']]\n",
    "  m.columns.values[[2, 3]] = ['expected_home_score', 'expected_away_score']\n",
    "  return m\n",
    "\n",
    "def test(year):\n",
    "  old_scores = select_past_matches(year)\n",
    "  prediction = predict(old_scores[['home','away']])\n",
    "  return score_points(old_scores, prediction)\n",
    "\n",
    "test_results = pd.DataFrame({'Year': [2002, 2006, 2010, 2014]})\n",
    "test_results['Points'] = test_results['Year'].apply(test)\n",
    "test_results['%'] = test_results['Points'] * 100 / 48 / 25 \n",
    "print 'Test for old World Cups:'\n",
    "test_results"
   ]
  },
  {
   "cell_type": "markdown",
   "metadata": {
    "deletable": true,
    "editable": true
   },
   "source": [
    "## Predicting and Uploading to GCS\n",
    "Next cell executes your prediction function for the 2018 World Cup and uploads a CSV file to your GCS bucket.\n",
    "<br>\n",
    "<font color=\"red\">**Don't forget to give the GCE instance (where Datalab is running) permission to write into the bucket.**</font> Instructions __[here](https://docs.google.com/document/d/1SJRglulgz2x63h24wD3SgBZOA1DgdTtTI92Z66wc6oM/edit)__."
   ]
  },
  {
   "cell_type": "code",
   "execution_count": 21,
   "metadata": {
    "collapsed": false,
    "deletable": true,
    "editable": true
   },
   "outputs": [
    {
     "ename": "Forbidden",
     "evalue": "403 GET https://www.googleapis.com/storage/v1/b/ciandt_octopus_wender__dot__zacariasxavier__at__gmail__dot__com?projection=noAcl: 1074176232054-compute@developer.gserviceaccount.com does not have storage.buckets.get access to ciandt_octopus_wender__dot__zacariasxavier__at__gmail__dot__com.",
     "output_type": "error",
     "traceback": [
      "\u001b[0;31m\u001b[0m",
      "\u001b[0;31mForbidden\u001b[0mTraceback (most recent call last)",
      "\u001b[0;32m<ipython-input-21-493b64ae6203>\u001b[0m in \u001b[0;36m<module>\u001b[0;34m()\u001b[0m\n\u001b[1;32m      2\u001b[0m \u001b[0;34m\u001b[0m\u001b[0m\n\u001b[1;32m      3\u001b[0m \u001b[0mstorage_client\u001b[0m \u001b[0;34m=\u001b[0m \u001b[0mstorage\u001b[0m\u001b[0;34m.\u001b[0m\u001b[0mClient\u001b[0m\u001b[0;34m(\u001b[0m\u001b[0mproject\u001b[0m\u001b[0;34m=\u001b[0m\u001b[0mproject_id\u001b[0m\u001b[0;34m)\u001b[0m\u001b[0;34m\u001b[0m\u001b[0m\n\u001b[0;32m----> 4\u001b[0;31m \u001b[0mbucket\u001b[0m \u001b[0;34m=\u001b[0m \u001b[0mstorage_client\u001b[0m\u001b[0;34m.\u001b[0m\u001b[0mget_bucket\u001b[0m\u001b[0;34m(\u001b[0m\u001b[0mbucket\u001b[0m\u001b[0;34m)\u001b[0m\u001b[0;34m\u001b[0m\u001b[0m\n\u001b[0m\u001b[1;32m      5\u001b[0m \u001b[0mblob\u001b[0m \u001b[0;34m=\u001b[0m \u001b[0mbucket\u001b[0m\u001b[0;34m.\u001b[0m\u001b[0mblob\u001b[0m\u001b[0;34m(\u001b[0m\u001b[0;34m'predictions.csv'\u001b[0m\u001b[0;34m)\u001b[0m\u001b[0;34m\u001b[0m\u001b[0m\n\u001b[1;32m      6\u001b[0m \u001b[0mblob\u001b[0m\u001b[0;34m.\u001b[0m\u001b[0mcontent_type\u001b[0m \u001b[0;34m=\u001b[0m \u001b[0;34m'text/plain'\u001b[0m\u001b[0;34m\u001b[0m\u001b[0m\n",
      "\u001b[0;32m/usr/local/envs/py2env/lib/python2.7/site-packages/google/cloud/storage/client.pyc\u001b[0m in \u001b[0;36mget_bucket\u001b[0;34m(self, bucket_name)\u001b[0m\n\u001b[1;32m    175\u001b[0m         \"\"\"\n\u001b[1;32m    176\u001b[0m         \u001b[0mbucket\u001b[0m \u001b[0;34m=\u001b[0m \u001b[0mBucket\u001b[0m\u001b[0;34m(\u001b[0m\u001b[0mself\u001b[0m\u001b[0;34m,\u001b[0m \u001b[0mname\u001b[0m\u001b[0;34m=\u001b[0m\u001b[0mbucket_name\u001b[0m\u001b[0;34m)\u001b[0m\u001b[0;34m\u001b[0m\u001b[0m\n\u001b[0;32m--> 177\u001b[0;31m         \u001b[0mbucket\u001b[0m\u001b[0;34m.\u001b[0m\u001b[0mreload\u001b[0m\u001b[0;34m(\u001b[0m\u001b[0mclient\u001b[0m\u001b[0;34m=\u001b[0m\u001b[0mself\u001b[0m\u001b[0;34m)\u001b[0m\u001b[0;34m\u001b[0m\u001b[0m\n\u001b[0m\u001b[1;32m    178\u001b[0m         \u001b[0;32mreturn\u001b[0m \u001b[0mbucket\u001b[0m\u001b[0;34m\u001b[0m\u001b[0m\n\u001b[1;32m    179\u001b[0m \u001b[0;34m\u001b[0m\u001b[0m\n",
      "\u001b[0;32m/usr/local/envs/py2env/lib/python2.7/site-packages/google/cloud/storage/_helpers.pyc\u001b[0m in \u001b[0;36mreload\u001b[0;34m(self, client)\u001b[0m\n\u001b[1;32m    106\u001b[0m         api_response = client._connection.api_request(\n\u001b[1;32m    107\u001b[0m             \u001b[0mmethod\u001b[0m\u001b[0;34m=\u001b[0m\u001b[0;34m'GET'\u001b[0m\u001b[0;34m,\u001b[0m \u001b[0mpath\u001b[0m\u001b[0;34m=\u001b[0m\u001b[0mself\u001b[0m\u001b[0;34m.\u001b[0m\u001b[0mpath\u001b[0m\u001b[0;34m,\u001b[0m \u001b[0mquery_params\u001b[0m\u001b[0;34m=\u001b[0m\u001b[0mquery_params\u001b[0m\u001b[0;34m,\u001b[0m\u001b[0;34m\u001b[0m\u001b[0m\n\u001b[0;32m--> 108\u001b[0;31m             _target_object=self)\n\u001b[0m\u001b[1;32m    109\u001b[0m         \u001b[0mself\u001b[0m\u001b[0;34m.\u001b[0m\u001b[0m_set_properties\u001b[0m\u001b[0;34m(\u001b[0m\u001b[0mapi_response\u001b[0m\u001b[0;34m)\u001b[0m\u001b[0;34m\u001b[0m\u001b[0m\n\u001b[1;32m    110\u001b[0m \u001b[0;34m\u001b[0m\u001b[0m\n",
      "\u001b[0;32m/usr/local/envs/py2env/lib/python2.7/site-packages/google/cloud/_http.pyc\u001b[0m in \u001b[0;36mapi_request\u001b[0;34m(self, method, path, query_params, data, content_type, headers, api_base_url, api_version, expect_json, _target_object)\u001b[0m\n\u001b[1;32m    291\u001b[0m \u001b[0;34m\u001b[0m\u001b[0m\n\u001b[1;32m    292\u001b[0m         \u001b[0;32mif\u001b[0m \u001b[0;32mnot\u001b[0m \u001b[0;36m200\u001b[0m \u001b[0;34m<=\u001b[0m \u001b[0mresponse\u001b[0m\u001b[0;34m.\u001b[0m\u001b[0mstatus_code\u001b[0m \u001b[0;34m<\u001b[0m \u001b[0;36m300\u001b[0m\u001b[0;34m:\u001b[0m\u001b[0;34m\u001b[0m\u001b[0m\n\u001b[0;32m--> 293\u001b[0;31m             \u001b[0;32mraise\u001b[0m \u001b[0mexceptions\u001b[0m\u001b[0;34m.\u001b[0m\u001b[0mfrom_http_response\u001b[0m\u001b[0;34m(\u001b[0m\u001b[0mresponse\u001b[0m\u001b[0;34m)\u001b[0m\u001b[0;34m\u001b[0m\u001b[0m\n\u001b[0m\u001b[1;32m    294\u001b[0m \u001b[0;34m\u001b[0m\u001b[0m\n\u001b[1;32m    295\u001b[0m         \u001b[0;32mif\u001b[0m \u001b[0mexpect_json\u001b[0m \u001b[0;32mand\u001b[0m \u001b[0mresponse\u001b[0m\u001b[0;34m.\u001b[0m\u001b[0mcontent\u001b[0m\u001b[0;34m:\u001b[0m\u001b[0;34m\u001b[0m\u001b[0m\n",
      "\u001b[0;31mForbidden\u001b[0m: 403 GET https://www.googleapis.com/storage/v1/b/ciandt_octopus_wender__dot__zacariasxavier__at__gmail__dot__com?projection=noAcl: 1074176232054-compute@developer.gserviceaccount.com does not have storage.buckets.get access to ciandt_octopus_wender__dot__zacariasxavier__at__gmail__dot__com."
     ]
    }
   ],
   "source": [
    "csv = predict(matches_schedule[['home','away']]).to_csv(index=False)\n",
    "\n",
    "storage_client = storage.Client(project=project_id)\n",
    "bucket = storage_client.get_bucket(bucket)\n",
    "blob = bucket.blob('predictions.csv')\n",
    "blob.content_type = 'text/plain'\n",
    "blob.upload_from_string(csv)"
   ]
  },
  {
   "cell_type": "code",
   "execution_count": 20,
   "metadata": {
    "collapsed": false,
    "deletable": true,
    "editable": true
   },
   "outputs": [],
   "source": [
    "predict(matches_schedule[['home','away']]).to_csv(\"predictions.csv\", index=False)"
   ]
  },
  {
   "cell_type": "code",
   "execution_count": null,
   "metadata": {
    "collapsed": true,
    "deletable": true,
    "editable": true
   },
   "outputs": [],
   "source": []
  }
 ],
 "metadata": {
  "colab": {
   "collapsed_sections": [],
   "default_view": {},
   "name": "WC2018-baseline-tensorflow.ipynb",
   "provenance": [],
   "version": "0.3.2",
   "views": {}
  },
  "kernelspec": {
   "display_name": "Python 2",
   "language": "python",
   "name": "python2"
  },
  "language_info": {
   "codemirror_mode": {
    "name": "ipython",
    "version": 2
   },
   "file_extension": ".py",
   "mimetype": "text/x-python",
   "name": "python",
   "nbconvert_exporter": "python",
   "pygments_lexer": "ipython2",
   "version": "2.7.15"
  }
 },
 "nbformat": 4,
 "nbformat_minor": 0
}
